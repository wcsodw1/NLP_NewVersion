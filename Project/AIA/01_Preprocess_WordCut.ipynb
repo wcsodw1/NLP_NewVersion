{
 "cells": [
  {
   "cell_type": "markdown",
   "metadata": {},
   "source": [
    "# data preprocess and words cut\n",
    "\n",
    "- #### 以PTT推噓文為例 做資料前處理"
   ]
  },
  {
   "cell_type": "code",
   "execution_count": 1,
   "metadata": {},
   "outputs": [],
   "source": [
    "import pandas as pd\n",
    "import re\n",
    "import os\n",
    "import jieba # 專門用來處理中文斷詞的系統\n",
    "import jieba.posseg as pseg \n",
    "import pickle\n",
    "import numpy as np"
   ]
  },
  {
   "cell_type": "code",
   "execution_count": 2,
   "metadata": {},
   "outputs": [
    {
     "data": {
      "text/plain": [
       "'C:\\\\Users\\\\user\\\\Desktop\\\\Resume\\\\V2.5\\\\v2-5-nlp\\\\Part1'"
      ]
     },
     "execution_count": 2,
     "metadata": {},
     "output_type": "execute_result"
    }
   ],
   "source": [
    "## Find the path of this file\n",
    "\n",
    "# 如果檔案需從外部進入可以這樣用 (turn back to main directory)\n",
    "# os.chdir(\"../\")\n",
    "# article = pd.read_csv('Part1/Data/article_practice.csv')\n",
    "\n",
    "import os\n",
    "os.chdir(\"../\")\n",
    "os.getcwd()"
   ]
  },
  {
   "cell_type": "markdown",
   "metadata": {},
   "source": [
    "## data overview"
   ]
  },
  {
   "cell_type": "code",
   "execution_count": 3,
   "metadata": {},
   "outputs": [],
   "source": [
    "# load data (Set Path)\n",
    "article = pd.read_csv('Data/article_practice.csv')"
   ]
  },
  {
   "cell_type": "code",
   "execution_count": 4,
   "metadata": {
    "scrolled": false
   },
   "outputs": [
    {
     "data": {
      "text/html": [
       "<div>\n",
       "<style scoped>\n",
       "    .dataframe tbody tr th:only-of-type {\n",
       "        vertical-align: middle;\n",
       "    }\n",
       "\n",
       "    .dataframe tbody tr th {\n",
       "        vertical-align: top;\n",
       "    }\n",
       "\n",
       "    .dataframe thead th {\n",
       "        text-align: right;\n",
       "    }\n",
       "</style>\n",
       "<table border=\"1\" class=\"dataframe\">\n",
       "  <thead>\n",
       "    <tr style=\"text-align: right;\">\n",
       "      <th></th>\n",
       "      <th>id</th>\n",
       "      <th>title</th>\n",
       "      <th>content</th>\n",
       "      <th>date</th>\n",
       "      <th>push</th>\n",
       "      <th>boo</th>\n",
       "    </tr>\n",
       "  </thead>\n",
       "  <tbody>\n",
       "    <tr>\n",
       "      <th>0</th>\n",
       "      <td>M.1502380736.A.AC4</td>\n",
       "      <td>[問卦] 韓瑜 跟 周子瑜 怎麼選?</td>\n",
       "      <td>韓瑜是協志的前妻 也是很正的女演員 周子瑜是TWICE團裡裡面的台灣人 也是很正 這兩個要當...</td>\n",
       "      <td>Thu Aug 10 23:58:53 2017</td>\n",
       "      <td>4</td>\n",
       "      <td>4</td>\n",
       "    </tr>\n",
       "    <tr>\n",
       "      <th>1</th>\n",
       "      <td>M.1502380714.A.3B4</td>\n",
       "      <td>[問卦] 逢甲碟仙說兩岸統一到底是真是假！？</td>\n",
       "      <td>dear all 逢甲碟仙發生在民國七十五年三月中的事情， 一堆大學生玩碟仙然後發bbs 成...</td>\n",
       "      <td>Thu Aug 10 23:58:30 2017</td>\n",
       "      <td>14</td>\n",
       "      <td>3</td>\n",
       "    </tr>\n",
       "    <tr>\n",
       "      <th>2</th>\n",
       "      <td>M.1502380707.A.6A6</td>\n",
       "      <td>[問卦] 風雲起山河動</td>\n",
       "      <td>晚上好啊 各位 預備唱 風雲起 山河動 為什麼國軍早上都要唱這個啊 有沒有相關的八卦？？ S...</td>\n",
       "      <td>Thu Aug 10 23:58:22 2017</td>\n",
       "      <td>13</td>\n",
       "      <td>0</td>\n",
       "    </tr>\n",
       "    <tr>\n",
       "      <th>3</th>\n",
       "      <td>M.1502380681.A.18F</td>\n",
       "      <td>[問卦] 男朋友不睡覺怎麼辦</td>\n",
       "      <td>明天要早起 可是他不睡覺 在旁邊看Youtube這樣眼睛會壞掉 有沒有方法可以讓他早點睡 掛...</td>\n",
       "      <td>Thu Aug 10 23:57:58 2017</td>\n",
       "      <td>1</td>\n",
       "      <td>4</td>\n",
       "    </tr>\n",
       "    <tr>\n",
       "      <th>4</th>\n",
       "      <td>M.1502380627.A.383</td>\n",
       "      <td>[問卦] 英雄聯盟是不是已經漸漸過氣了?</td>\n",
       "      <td>一段時間沒在注意LOL了 結果發現各大LOL討論區人數有在明顯下降的趨勢 這實在令人滿驚訝的...</td>\n",
       "      <td>Thu Aug 10 23:57:04 2017</td>\n",
       "      <td>10</td>\n",
       "      <td>1</td>\n",
       "    </tr>\n",
       "  </tbody>\n",
       "</table>\n",
       "</div>"
      ],
      "text/plain": [
       "                   id                   title  \\\n",
       "0  M.1502380736.A.AC4      [問卦] 韓瑜 跟 周子瑜 怎麼選?   \n",
       "1  M.1502380714.A.3B4  [問卦] 逢甲碟仙說兩岸統一到底是真是假！？   \n",
       "2  M.1502380707.A.6A6             [問卦] 風雲起山河動   \n",
       "3  M.1502380681.A.18F          [問卦] 男朋友不睡覺怎麼辦   \n",
       "4  M.1502380627.A.383    [問卦] 英雄聯盟是不是已經漸漸過氣了?   \n",
       "\n",
       "                                             content  \\\n",
       "0  韓瑜是協志的前妻 也是很正的女演員 周子瑜是TWICE團裡裡面的台灣人 也是很正 這兩個要當...   \n",
       "1  dear all 逢甲碟仙發生在民國七十五年三月中的事情， 一堆大學生玩碟仙然後發bbs 成...   \n",
       "2  晚上好啊 各位 預備唱 風雲起 山河動 為什麼國軍早上都要唱這個啊 有沒有相關的八卦？？ S...   \n",
       "3  明天要早起 可是他不睡覺 在旁邊看Youtube這樣眼睛會壞掉 有沒有方法可以讓他早點睡 掛...   \n",
       "4  一段時間沒在注意LOL了 結果發現各大LOL討論區人數有在明顯下降的趨勢 這實在令人滿驚訝的...   \n",
       "\n",
       "                       date  push  boo  \n",
       "0  Thu Aug 10 23:58:53 2017     4    4  \n",
       "1  Thu Aug 10 23:58:30 2017    14    3  \n",
       "2  Thu Aug 10 23:58:22 2017    13    0  \n",
       "3  Thu Aug 10 23:57:58 2017     1    4  \n",
       "4  Thu Aug 10 23:57:04 2017    10    1  "
      ]
     },
     "execution_count": 4,
     "metadata": {},
     "output_type": "execute_result"
    }
   ],
   "source": [
    "# Check Data\n",
    "article.head()"
   ]
  },
  {
   "cell_type": "code",
   "execution_count": 5,
   "metadata": {},
   "outputs": [
    {
     "data": {
      "text/plain": [
       "0         韓瑜是協志的前妻 也是很正的女演員 周子瑜是TWICE團裡裡面的台灣人 也是很正 這兩個要當...\n",
       "1         dear all 逢甲碟仙發生在民國七十五年三月中的事情， 一堆大學生玩碟仙然後發bbs 成...\n",
       "2         晚上好啊 各位 預備唱 風雲起 山河動 為什麼國軍早上都要唱這個啊 有沒有相關的八卦？？ S...\n",
       "3         明天要早起 可是他不睡覺 在旁邊看Youtube這樣眼睛會壞掉 有沒有方法可以讓他早點睡 掛...\n",
       "4         一段時間沒在注意LOL了 結果發現各大LOL討論區人數有在明顯下降的趨勢 這實在令人滿驚訝的...\n",
       "                                ...                        \n",
       "252231    看影片每個信徒一接近SEAFOOD還是雙手合十就哭得一把鼻涕一把眼淚的 讓小魯不禁想問 SE...\n",
       "252232    諸位晚安 如題 不知道諸位比較喜歡吃seafood還是skyfood? 不才在下先拋磚引玉 ...\n",
       "252233    utube上幾千人的場合 一起喊 感謝seafood 讚嘆seafood 一起跪拜 一起起乩...\n",
       "252234              剛剛打死了連念都不會念的蚰蜒 有沒有他的八卦？ 我覺得他看起來比蟑螂好欺負說 \n",
       "252235    小魯早上在往新部隊的軍車上哼歌 就有個穿便服的白目一直看著我笑 到部隊後 一下車值星就叫我們...\n",
       "Name: content, Length: 252236, dtype: object"
      ]
     },
     "execution_count": 5,
     "metadata": {},
     "output_type": "execute_result"
    }
   ],
   "source": [
    "article['content']"
   ]
  },
  {
   "cell_type": "code",
   "execution_count": 7,
   "metadata": {
    "scrolled": true
   },
   "outputs": [
    {
     "data": {
      "text/plain": [
       "0         韓瑜是協志的前妻 也是很正的女演員 周子瑜是TWICE團裡裡面的台灣人 也是很正 這兩個要當...\n",
       "1         dear all 逢甲碟仙發生在民國七十五年三月中的事情， 一堆大學生玩碟仙然後發bbs 成...\n",
       "2         晚上好啊 各位 預備唱 風雲起 山河動 為什麼國軍早上都要唱這個啊 有沒有相關的八卦？？ S...\n",
       "3         明天要早起 可是他不睡覺 在旁邊看Youtube這樣眼睛會壞掉 有沒有方法可以讓他早點睡 掛...\n",
       "4         一段時間沒在注意LOL了 結果發現各大LOL討論區人數有在明顯下降的趨勢 這實在令人滿驚訝的...\n",
       "                                ...                        \n",
       "252231    看影片每個信徒一接近SEAFOOD還是雙手合十就哭得一把鼻涕一把眼淚的 讓小魯不禁想問 SE...\n",
       "252232    諸位晚安 如題 不知道諸位比較喜歡吃seafood還是skyfood? 不才在下先拋磚引玉 ...\n",
       "252233    utube上幾千人的場合 一起喊 感謝seafood 讚嘆seafood 一起跪拜 一起起乩...\n",
       "252234              剛剛打死了連念都不會念的蚰蜒 有沒有他的八卦？ 我覺得他看起來比蟑螂好欺負說 \n",
       "252235    小魯早上在往新部隊的軍車上哼歌 就有個穿便服的白目一直看著我笑 到部隊後 一下車值星就叫我們...\n",
       "Name: content, Length: 252236, dtype: object"
      ]
     },
     "execution_count": 7,
     "metadata": {},
     "output_type": "execute_result"
    }
   ],
   "source": [
    "article['content'] = article['content'].str.replace('https?:\\/\\/\\S*', '')\n",
    "article['content']\n",
    "\n",
    "# ex2: 將 ''(空值) 取代為'NaN'\n",
    "article['content'] = article['content'].replace('', np.NaN)\n",
    "\n",
    "article['idx'] = article.index\n",
    "article['idx']"
   ]
  },
  {
   "cell_type": "code",
   "execution_count": 8,
   "metadata": {},
   "outputs": [
    {
     "data": {
      "text/html": [
       "<div>\n",
       "<style scoped>\n",
       "    .dataframe tbody tr th:only-of-type {\n",
       "        vertical-align: middle;\n",
       "    }\n",
       "\n",
       "    .dataframe tbody tr th {\n",
       "        vertical-align: top;\n",
       "    }\n",
       "\n",
       "    .dataframe thead th {\n",
       "        text-align: right;\n",
       "    }\n",
       "</style>\n",
       "<table border=\"1\" class=\"dataframe\">\n",
       "  <thead>\n",
       "    <tr style=\"text-align: right;\">\n",
       "      <th></th>\n",
       "      <th>id</th>\n",
       "      <th>title</th>\n",
       "      <th>content</th>\n",
       "      <th>date</th>\n",
       "      <th>push</th>\n",
       "      <th>boo</th>\n",
       "      <th>idx</th>\n",
       "    </tr>\n",
       "  </thead>\n",
       "  <tbody>\n",
       "    <tr>\n",
       "      <th>0</th>\n",
       "      <td>M.1502380736.A.AC4</td>\n",
       "      <td>[問卦] 韓瑜 跟 周子瑜 怎麼選?</td>\n",
       "      <td>韓瑜是協志的前妻 也是很正的女演員 周子瑜是TWICE團裡裡面的台灣人 也是很正 這兩個要當...</td>\n",
       "      <td>Thu Aug 10 23:58:53 2017</td>\n",
       "      <td>4</td>\n",
       "      <td>4</td>\n",
       "      <td>0</td>\n",
       "    </tr>\n",
       "    <tr>\n",
       "      <th>1</th>\n",
       "      <td>M.1502380714.A.3B4</td>\n",
       "      <td>[問卦] 逢甲碟仙說兩岸統一到底是真是假！？</td>\n",
       "      <td>dear all 逢甲碟仙發生在民國七十五年三月中的事情， 一堆大學生玩碟仙然後發bbs 成...</td>\n",
       "      <td>Thu Aug 10 23:58:30 2017</td>\n",
       "      <td>14</td>\n",
       "      <td>3</td>\n",
       "      <td>1</td>\n",
       "    </tr>\n",
       "    <tr>\n",
       "      <th>2</th>\n",
       "      <td>M.1502380707.A.6A6</td>\n",
       "      <td>[問卦] 風雲起山河動</td>\n",
       "      <td>晚上好啊 各位 預備唱 風雲起 山河動 為什麼國軍早上都要唱這個啊 有沒有相關的八卦？？ S...</td>\n",
       "      <td>Thu Aug 10 23:58:22 2017</td>\n",
       "      <td>13</td>\n",
       "      <td>0</td>\n",
       "      <td>2</td>\n",
       "    </tr>\n",
       "    <tr>\n",
       "      <th>3</th>\n",
       "      <td>M.1502380681.A.18F</td>\n",
       "      <td>[問卦] 男朋友不睡覺怎麼辦</td>\n",
       "      <td>明天要早起 可是他不睡覺 在旁邊看Youtube這樣眼睛會壞掉 有沒有方法可以讓他早點睡 掛...</td>\n",
       "      <td>Thu Aug 10 23:57:58 2017</td>\n",
       "      <td>1</td>\n",
       "      <td>4</td>\n",
       "      <td>3</td>\n",
       "    </tr>\n",
       "    <tr>\n",
       "      <th>4</th>\n",
       "      <td>M.1502380627.A.383</td>\n",
       "      <td>[問卦] 英雄聯盟是不是已經漸漸過氣了?</td>\n",
       "      <td>一段時間沒在注意LOL了 結果發現各大LOL討論區人數有在明顯下降的趨勢 這實在令人滿驚訝的...</td>\n",
       "      <td>Thu Aug 10 23:57:04 2017</td>\n",
       "      <td>10</td>\n",
       "      <td>1</td>\n",
       "      <td>4</td>\n",
       "    </tr>\n",
       "    <tr>\n",
       "      <th>...</th>\n",
       "      <td>...</td>\n",
       "      <td>...</td>\n",
       "      <td>...</td>\n",
       "      <td>...</td>\n",
       "      <td>...</td>\n",
       "      <td>...</td>\n",
       "      <td>...</td>\n",
       "    </tr>\n",
       "    <tr>\n",
       "      <th>252231</th>\n",
       "      <td>M.1505405210.A.C69</td>\n",
       "      <td>[問卦] 信徒能感覺到SEAFOOD的靈壓嗎</td>\n",
       "      <td>看影片每個信徒一接近SEAFOOD還是雙手合十就哭得一把鼻涕一把眼淚的 讓小魯不禁想問 SE...</td>\n",
       "      <td>Fri Sep 15 00:06:47 2017</td>\n",
       "      <td>3</td>\n",
       "      <td>0</td>\n",
       "      <td>252231</td>\n",
       "    </tr>\n",
       "    <tr>\n",
       "      <th>252232</th>\n",
       "      <td>M.1505404956.A.DDC</td>\n",
       "      <td>[問卦] 比較喜歡吃seafood還是skyfood?</td>\n",
       "      <td>諸位晚安 如題 不知道諸位比較喜歡吃seafood還是skyfood? 不才在下先拋磚引玉 ...</td>\n",
       "      <td>Fri Sep 15 00:02:30 2017</td>\n",
       "      <td>1</td>\n",
       "      <td>1</td>\n",
       "      <td>252232</td>\n",
       "    </tr>\n",
       "    <tr>\n",
       "      <th>252233</th>\n",
       "      <td>M.1505404929.A.7F0</td>\n",
       "      <td>[問卦] seafood幾千人的場合真的沒有一個臥底</td>\n",
       "      <td>utube上幾千人的場合 一起喊 感謝seafood 讚嘆seafood 一起跪拜 一起起乩...</td>\n",
       "      <td>Fri Sep 15 00:02:04 2017</td>\n",
       "      <td>4</td>\n",
       "      <td>0</td>\n",
       "      <td>252233</td>\n",
       "    </tr>\n",
       "    <tr>\n",
       "      <th>252234</th>\n",
       "      <td>M.1505404909.A.4CF</td>\n",
       "      <td>[問卦] 有沒有蚰蜒的八卦</td>\n",
       "      <td>剛剛打死了連念都不會念的蚰蜒 有沒有他的八卦？ 我覺得他看起來比蟑螂好欺負說</td>\n",
       "      <td>Fri Sep 15 00:01:46 2017</td>\n",
       "      <td>4</td>\n",
       "      <td>3</td>\n",
       "      <td>252234</td>\n",
       "    </tr>\n",
       "    <tr>\n",
       "      <th>252235</th>\n",
       "      <td>M.1505404806.A.A2C</td>\n",
       "      <td>[問卦] 一到新部隊班長就在電人？</td>\n",
       "      <td>小魯早上在往新部隊的軍車上哼歌 就有個穿便服的白目一直看著我笑 到部隊後 一下車值星就叫我們...</td>\n",
       "      <td>Fri Sep 15 00:00:03 2017</td>\n",
       "      <td>5</td>\n",
       "      <td>4</td>\n",
       "      <td>252235</td>\n",
       "    </tr>\n",
       "  </tbody>\n",
       "</table>\n",
       "<p>252229 rows × 7 columns</p>\n",
       "</div>"
      ],
      "text/plain": [
       "                        id                        title  \\\n",
       "0       M.1502380736.A.AC4           [問卦] 韓瑜 跟 周子瑜 怎麼選?   \n",
       "1       M.1502380714.A.3B4       [問卦] 逢甲碟仙說兩岸統一到底是真是假！？   \n",
       "2       M.1502380707.A.6A6                  [問卦] 風雲起山河動   \n",
       "3       M.1502380681.A.18F               [問卦] 男朋友不睡覺怎麼辦   \n",
       "4       M.1502380627.A.383         [問卦] 英雄聯盟是不是已經漸漸過氣了?   \n",
       "...                    ...                          ...   \n",
       "252231  M.1505405210.A.C69       [問卦] 信徒能感覺到SEAFOOD的靈壓嗎   \n",
       "252232  M.1505404956.A.DDC  [問卦] 比較喜歡吃seafood還是skyfood?   \n",
       "252233  M.1505404929.A.7F0   [問卦] seafood幾千人的場合真的沒有一個臥底   \n",
       "252234  M.1505404909.A.4CF                [問卦] 有沒有蚰蜒的八卦   \n",
       "252235  M.1505404806.A.A2C            [問卦] 一到新部隊班長就在電人？   \n",
       "\n",
       "                                                  content  \\\n",
       "0       韓瑜是協志的前妻 也是很正的女演員 周子瑜是TWICE團裡裡面的台灣人 也是很正 這兩個要當...   \n",
       "1       dear all 逢甲碟仙發生在民國七十五年三月中的事情， 一堆大學生玩碟仙然後發bbs 成...   \n",
       "2       晚上好啊 各位 預備唱 風雲起 山河動 為什麼國軍早上都要唱這個啊 有沒有相關的八卦？？ S...   \n",
       "3       明天要早起 可是他不睡覺 在旁邊看Youtube這樣眼睛會壞掉 有沒有方法可以讓他早點睡 掛...   \n",
       "4       一段時間沒在注意LOL了 結果發現各大LOL討論區人數有在明顯下降的趨勢 這實在令人滿驚訝的...   \n",
       "...                                                   ...   \n",
       "252231  看影片每個信徒一接近SEAFOOD還是雙手合十就哭得一把鼻涕一把眼淚的 讓小魯不禁想問 SE...   \n",
       "252232  諸位晚安 如題 不知道諸位比較喜歡吃seafood還是skyfood? 不才在下先拋磚引玉 ...   \n",
       "252233  utube上幾千人的場合 一起喊 感謝seafood 讚嘆seafood 一起跪拜 一起起乩...   \n",
       "252234            剛剛打死了連念都不會念的蚰蜒 有沒有他的八卦？ 我覺得他看起來比蟑螂好欺負說    \n",
       "252235  小魯早上在往新部隊的軍車上哼歌 就有個穿便服的白目一直看著我笑 到部隊後 一下車值星就叫我們...   \n",
       "\n",
       "                            date  push  boo     idx  \n",
       "0       Thu Aug 10 23:58:53 2017     4    4       0  \n",
       "1       Thu Aug 10 23:58:30 2017    14    3       1  \n",
       "2       Thu Aug 10 23:58:22 2017    13    0       2  \n",
       "3       Thu Aug 10 23:57:58 2017     1    4       3  \n",
       "4       Thu Aug 10 23:57:04 2017    10    1       4  \n",
       "...                          ...   ...  ...     ...  \n",
       "252231  Fri Sep 15 00:06:47 2017     3    0  252231  \n",
       "252232  Fri Sep 15 00:02:30 2017     1    1  252232  \n",
       "252233  Fri Sep 15 00:02:04 2017     4    0  252233  \n",
       "252234  Fri Sep 15 00:01:46 2017     4    3  252234  \n",
       "252235  Fri Sep 15 00:00:03 2017     5    4  252235  \n",
       "\n",
       "[252229 rows x 7 columns]"
      ]
     },
     "execution_count": 8,
     "metadata": {},
     "output_type": "execute_result"
    }
   ],
   "source": [
    "    # check type\n",
    "type(article['content'])\n",
    "\n",
    "# 1.Preprocessing  :  filter rules(依據Domain Knowledge去除不需要的資訊)\n",
    "   \n",
    "    # 1.1 ex1: 將'https?:\\/\\/\\S*' 取代為' '(空值)\n",
    "article['content'] = article['content'].str.replace('https?:\\/\\/\\S*', '')\n",
    "\n",
    "    # 1.2 將 ''(空值) 取代為'NaN'\n",
    "article['content'] = article['content'].replace('', np.NaN)\n",
    "\n",
    "article['idx'] = article.index\n",
    "article['idx']\n",
    "\n",
    "    # 1.3 \n",
    "article = article.dropna()\n",
    "article"
   ]
  },
  {
   "cell_type": "code",
   "execution_count": 8,
   "metadata": {},
   "outputs": [
    {
     "data": {
      "text/plain": [
       "0         韓瑜是協志的前妻 也是很正的女演員 周子瑜是TWICE團裡裡面的台灣人 也是很正 這兩個要當...\n",
       "1         dear all 逢甲碟仙發生在民國七十五年三月中的事情， 一堆大學生玩碟仙然後發bbs 成...\n",
       "2         晚上好啊 各位 預備唱 風雲起 山河動 為什麼國軍早上都要唱這個啊 有沒有相關的八卦？？ S...\n",
       "3         明天要早起 可是他不睡覺 在旁邊看Youtube這樣眼睛會壞掉 有沒有方法可以讓他早點睡 掛...\n",
       "4         一段時間沒在注意LOL了 結果發現各大LOL討論區人數有在明顯下降的趨勢 這實在令人滿驚訝的...\n",
       "                                ...                        \n",
       "252231    看影片每個信徒一接近SEAFOOD還是雙手合十就哭得一把鼻涕一把眼淚的 讓小魯不禁想問 SE...\n",
       "252232    諸位晚安 如題 不知道諸位比較喜歡吃seafood還是skyfood? 不才在下先拋磚引玉 ...\n",
       "252233    utube上幾千人的場合 一起喊 感謝seafood 讚嘆seafood 一起跪拜 一起起乩...\n",
       "252234              剛剛打死了連念都不會念的蚰蜒 有沒有他的八卦？ 我覺得他看起來比蟑螂好欺負說 \n",
       "252235    小魯早上在往新部隊的軍車上哼歌 就有個穿便服的白目一直看著我笑 到部隊後 一下車值星就叫我們...\n",
       "Name: content, Length: 252229, dtype: object"
      ]
     },
     "execution_count": 8,
     "metadata": {},
     "output_type": "execute_result"
    }
   ],
   "source": [
    "article['content']"
   ]
  },
  {
   "cell_type": "code",
   "execution_count": 9,
   "metadata": {
    "scrolled": true
   },
   "outputs": [
    {
     "data": {
      "text/plain": [
       "0              0\n",
       "1              1\n",
       "2              2\n",
       "3              3\n",
       "4              4\n",
       "           ...  \n",
       "252231    252231\n",
       "252232    252232\n",
       "252233    252233\n",
       "252234    252234\n",
       "252235    252235\n",
       "Name: idx, Length: 252229, dtype: int64"
      ]
     },
     "execution_count": 9,
     "metadata": {},
     "output_type": "execute_result"
    }
   ],
   "source": [
    "article['idx']"
   ]
  },
  {
   "cell_type": "code",
   "execution_count": 10,
   "metadata": {
    "scrolled": false
   },
   "outputs": [
    {
     "data": {
      "text/html": [
       "<div>\n",
       "<style scoped>\n",
       "    .dataframe tbody tr th:only-of-type {\n",
       "        vertical-align: middle;\n",
       "    }\n",
       "\n",
       "    .dataframe tbody tr th {\n",
       "        vertical-align: top;\n",
       "    }\n",
       "\n",
       "    .dataframe thead th {\n",
       "        text-align: right;\n",
       "    }\n",
       "</style>\n",
       "<table border=\"1\" class=\"dataframe\">\n",
       "  <thead>\n",
       "    <tr style=\"text-align: right;\">\n",
       "      <th></th>\n",
       "      <th>0</th>\n",
       "      <th>1</th>\n",
       "      <th>2</th>\n",
       "      <th>3</th>\n",
       "      <th>4</th>\n",
       "    </tr>\n",
       "  </thead>\n",
       "  <tbody>\n",
       "    <tr>\n",
       "      <th>0</th>\n",
       "      <td>韓瑜是協志的前妻</td>\n",
       "      <td>也是很正的女演員</td>\n",
       "      <td>周子瑜是TWICE團裡裡面的台灣人</td>\n",
       "      <td>也是很正</td>\n",
       "      <td>這兩個要當鄉民的老婆，你要怎麼選呢?? 五樓你真有勇氣</td>\n",
       "    </tr>\n",
       "    <tr>\n",
       "      <th>1</th>\n",
       "      <td>dear</td>\n",
       "      <td>all</td>\n",
       "      <td>逢甲碟仙發生在民國七十五年三月中的事情，</td>\n",
       "      <td>一堆大學生玩碟仙然後發bbs</td>\n",
       "      <td>成功預測921大地震，小弟預言都還沒出生呢。 後面說預言一百一十六年兩岸統一， 是我們統一對...</td>\n",
       "    </tr>\n",
       "    <tr>\n",
       "      <th>2</th>\n",
       "      <td>晚上好啊</td>\n",
       "      <td>各位</td>\n",
       "      <td>預備唱</td>\n",
       "      <td>風雲起</td>\n",
       "      <td>山河動 為什麼國軍早上都要唱這個啊 有沒有相關的八卦？？ Sent from JPTT on...</td>\n",
       "    </tr>\n",
       "    <tr>\n",
       "      <th>3</th>\n",
       "      <td>明天要早起</td>\n",
       "      <td>可是他不睡覺</td>\n",
       "      <td>在旁邊看Youtube這樣眼睛會壞掉</td>\n",
       "      <td>有沒有方法可以讓他早點睡</td>\n",
       "      <td>掛？ Sent from JPTT on my HTC_D10i.</td>\n",
       "    </tr>\n",
       "    <tr>\n",
       "      <th>4</th>\n",
       "      <td>一段時間沒在注意LOL了</td>\n",
       "      <td>結果發現各大LOL討論區人數有在明顯下降的趨勢</td>\n",
       "      <td>這實在令人滿驚訝的</td>\n",
       "      <td>曾經一時的遊戲霸主</td>\n",
       "      <td>難道也要漸漸過氣了嗎 不過LOL確實也撐很久了 能到現在也算厲害了 只是遊戲玩久了還是會膩吧?</td>\n",
       "    </tr>\n",
       "    <tr>\n",
       "      <th>...</th>\n",
       "      <td>...</td>\n",
       "      <td>...</td>\n",
       "      <td>...</td>\n",
       "      <td>...</td>\n",
       "      <td>...</td>\n",
       "    </tr>\n",
       "    <tr>\n",
       "      <th>252224</th>\n",
       "      <td>看影片每個信徒一接近SEAFOOD還是雙手合十就哭得一把鼻涕一把眼淚的</td>\n",
       "      <td>讓小魯不禁想問</td>\n",
       "      <td>SEAFOOD是不是有特殊的靈壓才能讓信徒感受到</td>\n",
       "      <td></td>\n",
       "      <td>None</td>\n",
       "    </tr>\n",
       "    <tr>\n",
       "      <th>252225</th>\n",
       "      <td>諸位晚安</td>\n",
       "      <td>如題</td>\n",
       "      <td>不知道諸位比較喜歡吃seafood還是skyfood?</td>\n",
       "      <td>不才在下先拋磚引玉</td>\n",
       "      <td>在下是都喜歡 不管是魚肉亦或是雞肉在下覺得都不錯 不知道諸位意下如何? 卦否? 風清揚微笑道...</td>\n",
       "    </tr>\n",
       "    <tr>\n",
       "      <th>252226</th>\n",
       "      <td>utube上幾千人的場合</td>\n",
       "      <td>一起喊</td>\n",
       "      <td>感謝seafood</td>\n",
       "      <td>讚嘆seafood</td>\n",
       "      <td>一起跪拜 一起起乩 動作整齊化一 就像同一人 這怎麼辦到的阿 難道裡面沒有半個臥底？？？ 尤...</td>\n",
       "    </tr>\n",
       "    <tr>\n",
       "      <th>252227</th>\n",
       "      <td>剛剛打死了連念都不會念的蚰蜒</td>\n",
       "      <td>有沒有他的八卦？</td>\n",
       "      <td>我覺得他看起來比蟑螂好欺負說</td>\n",
       "      <td></td>\n",
       "      <td>None</td>\n",
       "    </tr>\n",
       "    <tr>\n",
       "      <th>252228</th>\n",
       "      <td>小魯早上在往新部隊的軍車上哼歌</td>\n",
       "      <td>就有個穿便服的白目一直看著我笑</td>\n",
       "      <td>到部隊後</td>\n",
       "      <td>一下車值星就叫我們匍匐前進</td>\n",
       "      <td>接著就看到那白目被班長抓去電 譙他暴露狂 是家裡有錢嫌陸軍制服難看484 我們又不是新兵 有...</td>\n",
       "    </tr>\n",
       "  </tbody>\n",
       "</table>\n",
       "<p>252229 rows × 5 columns</p>\n",
       "</div>"
      ],
      "text/plain": [
       "                                          0                        1  \\\n",
       "0                                  韓瑜是協志的前妻                 也是很正的女演員   \n",
       "1                                      dear                      all   \n",
       "2                                      晚上好啊                       各位   \n",
       "3                                     明天要早起                   可是他不睡覺   \n",
       "4                              一段時間沒在注意LOL了  結果發現各大LOL討論區人數有在明顯下降的趨勢   \n",
       "...                                     ...                      ...   \n",
       "252224  看影片每個信徒一接近SEAFOOD還是雙手合十就哭得一把鼻涕一把眼淚的                  讓小魯不禁想問   \n",
       "252225                                 諸位晚安                       如題   \n",
       "252226                         utube上幾千人的場合                      一起喊   \n",
       "252227                       剛剛打死了連念都不會念的蚰蜒                 有沒有他的八卦？   \n",
       "252228                      小魯早上在往新部隊的軍車上哼歌          就有個穿便服的白目一直看著我笑   \n",
       "\n",
       "                                  2               3  \\\n",
       "0                 周子瑜是TWICE團裡裡面的台灣人            也是很正   \n",
       "1              逢甲碟仙發生在民國七十五年三月中的事情，  一堆大學生玩碟仙然後發bbs   \n",
       "2                               預備唱             風雲起   \n",
       "3                在旁邊看Youtube這樣眼睛會壞掉    有沒有方法可以讓他早點睡   \n",
       "4                         這實在令人滿驚訝的       曾經一時的遊戲霸主   \n",
       "...                             ...             ...   \n",
       "252224     SEAFOOD是不是有特殊的靈壓才能讓信徒感受到                   \n",
       "252225  不知道諸位比較喜歡吃seafood還是skyfood?       不才在下先拋磚引玉   \n",
       "252226                    感謝seafood       讚嘆seafood   \n",
       "252227               我覺得他看起來比蟑螂好欺負說                   \n",
       "252228                         到部隊後   一下車值星就叫我們匍匐前進   \n",
       "\n",
       "                                                        4  \n",
       "0                             這兩個要當鄉民的老婆，你要怎麼選呢?? 五樓你真有勇氣  \n",
       "1       成功預測921大地震，小弟預言都還沒出生呢。 後面說預言一百一十六年兩岸統一， 是我們統一對...  \n",
       "2       山河動 為什麼國軍早上都要唱這個啊 有沒有相關的八卦？？ Sent from JPTT on...  \n",
       "3                      掛？ Sent from JPTT on my HTC_D10i.   \n",
       "4        難道也要漸漸過氣了嗎 不過LOL確實也撐很久了 能到現在也算厲害了 只是遊戲玩久了還是會膩吧?   \n",
       "...                                                   ...  \n",
       "252224                                               None  \n",
       "252225  在下是都喜歡 不管是魚肉亦或是雞肉在下覺得都不錯 不知道諸位意下如何? 卦否? 風清揚微笑道...  \n",
       "252226  一起跪拜 一起起乩 動作整齊化一 就像同一人 這怎麼辦到的阿 難道裡面沒有半個臥底？？？ 尤...  \n",
       "252227                                               None  \n",
       "252228  接著就看到那白目被班長抓去電 譙他暴露狂 是家裡有錢嫌陸軍制服難看484 我們又不是新兵 有...  \n",
       "\n",
       "[252229 rows x 5 columns]"
      ]
     },
     "execution_count": 10,
     "metadata": {},
     "output_type": "execute_result"
    }
   ],
   "source": [
    "# remove data\n",
    "\n",
    "#remove NaN\n",
    "article = article.dropna()\n",
    "\n",
    "#讓index重置成原本的樣子\n",
    "article = article.reset_index(drop=True)\n",
    "\n",
    "article['idx'] = article.index\n",
    "article['idx']\n",
    "\n",
    "\n",
    "# String Split \n",
    "# ex: 依照文字之間的空格split\n",
    "\n",
    "article['content'].str.split( \" \", n=4, expand = True )"
   ]
  },
  {
   "cell_type": "code",
   "execution_count": 7,
   "metadata": {},
   "outputs": [],
   "source": [
    "article.to_csv('data/article_preprocessed.csv', index=False)"
   ]
  },
  {
   "cell_type": "markdown",
   "metadata": {},
   "source": [
    "# jieba"
   ]
  },
  {
   "cell_type": "markdown",
   "metadata": {},
   "source": [
    "## cut word : 自然語言處理第一招 : 處理斷詞 \n",
    "\n",
    "- ### 斷詞是甚麼? 中文詞句的斷句!"
   ]
  },
  {
   "cell_type": "code",
   "execution_count": 8,
   "metadata": {},
   "outputs": [],
   "source": [
    "## set dictionary (can define yourself)\n",
    "\n",
    "# jieba段詞的dictionary(有很多種 這邊只是某個範例)\n",
    "jieba.set_dictionary('jieba/dict.txt.big')\n",
    "\n",
    "#斷詞檔案 :  jieba為中文斷詞的資料庫 \n",
    "stop_words = open('jieba/stop_words.txt',encoding=\"utf-8\").read().splitlines()"
   ]
  },
  {
   "cell_type": "code",
   "execution_count": 9,
   "metadata": {},
   "outputs": [
    {
     "name": "stdout",
     "output_type": "stream",
     "text": [
      "['\\ufeff,', '?', '、', '。', '“', '”', '《', '》', '！', '，', '：', '；', '？', '人民', '末##末', '啊', '阿', '哎', '哎呀', '哎喲', '唉', '我', '我們', '按', '按照', '依照', '吧', '吧噠', '把', '罷了', '被', '本', '本著', '比', '比方', '比如', '鄙人', '彼', '彼此', '邊', '別', '別的', '別說', '並', '並且', '不比', '不成', '不單', '不但', '不獨', '不管', '不光', '不過', '不僅', '不拘', '不論', '不怕', '不然', '不如', '不特', '不惟', '不問', '不只', '朝', '朝著', '趁', '趁著', '乘', '沖', '除', '除此之外', '除非', '除了', '此', '此間', '此外', '從', '從而', '打', '待', '但', '但是', '當', '當著', '到', '得', '的', '的話', '等', '等等', '地', '第', '叮咚', '對', '對於', '多', '多少', '而', '而況', '而且', '而是', '而外', '而言', '而已', '爾後', '反過來', '反過來說', '反之', '非但', '非徒', '否則', '嘎', '嘎登', '該', '趕', '個', '各', '各個', '各位', '各種', '各自', '給', '根據', '跟', '故', '故此', '固然', '關於', '管', '歸', '果然', '果真', '過', '哈', '哈哈', '呵', '和', '何', '何處', '何況', '何時', '嘿', '哼', '哼唷', '呼哧', '乎', '嘩', '還是', '還有', '換句話說', '換言之', '或', '或是', '或者', '極了', '及', '及其', '及至', '即', '即便', '即或', '即令', '即若', '即使', '幾', '幾時', '己', '既', '既然', '既是', '繼而', '加之', '假如', '假若', '假使', '鑒於', '將', '較', '較之', '叫', '接著', '結果', '借', '緊接著', '進而', '盡', '儘管', '經', '經過', '就', '就是', '就是說', '據', '具體地說', '具體說來', '開始', '開外', '靠', '咳', '可', '可見', '可是', '可以', '況且', '啦', '來', '來著', '離', '例如', '哩', '連', '連同', '兩者', '了', '臨', '另', '另外', '另一方面', '論', '嘛', '嗎', '慢說', '漫說', '冒', '麼', '每', '每當', '們', '莫若', '某', '某個', '某些', '拿', '哪', '哪邊', '哪兒', '哪個', '哪裏', '哪年', '哪怕', '哪天', '哪些', '哪樣', '那', '那邊', '那兒', '那個', '那會兒', '那裏', '那麼', '那麼些', '那麼樣', '那時', '那些', '那樣', '乃', '乃至', '呢', '能', '你', '你們', '您', '寧', '寧可', '寧肯', '寧願', '哦', '嘔', '啪達', '旁人', '呸', '憑', '憑藉', '其', '其次', '其二', '其他', '其它', '其一', '其餘', '其中', '起', '起見', '豈但', '恰恰相反', '前後', '前者', '且', '然而', '然後', '然則', '讓', '人家', '任', '任何', '任憑', '如', '如此', '如果', '如何']\n"
     ]
    }
   ],
   "source": [
    "print(stop_words[:300])"
   ]
  },
  {
   "cell_type": "code",
   "execution_count": 10,
   "metadata": {},
   "outputs": [],
   "source": [
    "data = pd.read_csv('data/article_preprocessed.csv')\n",
    "data = data['content'].tolist()"
   ]
  },
  {
   "cell_type": "code",
   "execution_count": 11,
   "metadata": {},
   "outputs": [
    {
     "name": "stdout",
     "output_type": "stream",
     "text": [
      "['韓瑜是協志的前妻 也是很正的女演員 周子瑜是TWICE團裡裡面的台灣人 也是很正 這兩個要當鄉民的老婆，你要怎麼選呢?? 五樓你真有勇氣', 'dear all 逢甲碟仙發生在民國七十五年三月中的事情， 一堆大學生玩碟仙然後發bbs 成功預測921大地震，小弟預言都還沒出生呢。 後面說預言一百一十六年兩岸統一， 是我們統一對岸，還是對岸統一我們...... 應該是不用猜了。 只是真的存在預言這種事情嗎？ 倒底會不會在116被統？ 我知道資料庫發文日期可以被輕鬆改變， 沒有拍照的狀況下...... 碟仙到底是真的假的？ 到底有沒有科學或是經驗法則來破解， 這到底是謠言還是真實的八卦？ ', '晚上好啊 各位 預備唱 風雲起 山河動 為什麼國軍早上都要唱這個啊 有沒有相關的八卦？？ Sent from JPTT on my Xiaomi Redmi Note 4. ', '明天要早起 可是他不睡覺 在旁邊看Youtube這樣眼睛會壞掉 有沒有方法可以讓他早點睡 掛？ Sent from JPTT on my HTC_D10i. ', '一段時間沒在注意LOL了 結果發現各大LOL討論區人數有在明顯下降的趨勢 這實在令人滿驚訝的 曾經一時的遊戲霸主 難道也要漸漸過氣了嗎 不過LOL確實也撐很久了 能到現在也算厲害了 只是遊戲玩久了還是會膩吧? ']\n"
     ]
    }
   ],
   "source": [
    "print(data[:5])"
   ]
  },
  {
   "cell_type": "code",
   "execution_count": 12,
   "metadata": {},
   "outputs": [
    {
     "name": "stderr",
     "output_type": "stream",
     "text": [
      "Building prefix dict from C:\\Users\\user\\Desktop\\Resume\\V2.5\\v2-5-nlp\\Part1\\jieba\\dict.txt.big ...\n",
      "Dumping model to file cache C:\\Users\\user\\AppData\\Local\\Temp\\jieba.ucad950f0f18150a2aa2bae84a4bcd52a.cache\n",
      "Loading model cost 1.598 seconds.\n",
      "Prefix dict has been built successfully.\n"
     ]
    },
    {
     "name": "stdout",
     "output_type": "stream",
     "text": [
      "0 / 252229\n",
      "10000 / 252229\n",
      "20000 / 252229\n",
      "30000 / 252229\n",
      "40000 / 252229\n",
      "50000 / 252229\n",
      "60000 / 252229\n",
      "70000 / 252229\n",
      "80000 / 252229\n",
      "90000 / 252229\n",
      "100000 / 252229\n",
      "110000 / 252229\n",
      "120000 / 252229\n",
      "130000 / 252229\n",
      "140000 / 252229\n",
      "150000 / 252229\n",
      "160000 / 252229\n",
      "170000 / 252229\n",
      "180000 / 252229\n",
      "190000 / 252229\n",
      "200000 / 252229\n",
      "210000 / 252229\n",
      "220000 / 252229\n",
      "230000 / 252229\n",
      "240000 / 252229\n",
      "250000 / 252229\n"
     ]
    }
   ],
   "source": [
    "sentences = []\n",
    "\n",
    "for i, text in enumerate(data):\n",
    "    line = []\n",
    "\n",
    "    for w in jieba.cut(text, cut_all=False):\n",
    "        \n",
    "        ## remove stopwords and digits\n",
    "        ## can define your own rules\n",
    "        if w not in stop_words and not bool(re.match('[0-9]+', w)):\n",
    "            line.append(w)\n",
    "\n",
    "    sentences.append(line)\n",
    "\n",
    "    if i%10000==0:\n",
    "        print(i, '/', len(data))"
   ]
  },
  {
   "cell_type": "code",
   "execution_count": 13,
   "metadata": {
    "scrolled": true
   },
   "outputs": [
    {
     "name": "stdout",
     "output_type": "stream",
     "text": [
      "[['韓瑜', '協志', '前妻', '正', '女演員', '周子', '瑜', 'TWICE', '團裡裡面', '台灣', '人', '正', '兩個', '要當', '鄉民', '老婆', '選', '五樓', '真', '勇氣'], ['dear', 'all', '逢甲', '碟仙', '發生', '民國', '七十五年', '三月中', '事情', '一堆', '大學生', '玩', '碟仙', '後發', 'bbs', '成功', '預測', '地震', '小弟', '預言', '都還沒', '出生', '後面', '說', '預言', '一百', '一十六年', '兩岸', '統一', '統一', '對岸', '對岸', '統一', '應該', '不用', '猜', '真的', '存在', '預言', '這種', '事情', '倒底', '被統', '知道', '資料庫', '發文', '日期', '輕鬆', '改變', '拍照', '狀況', '下', '碟仙', '真的假', '有沒有', '科學', '經驗', '法則', '破解', '謠言', '真實', '八卦'], ['晚上', '好', '預備', '唱', '風雲', '山河', '動', '國軍', '早上', '唱', '有沒有', '相關', '八卦', 'Sent', 'from', 'JPTT', 'on', 'my', 'Xiaomi', 'Redmi', 'Note'], ['明天', '早起', '睡覺', '旁邊', 'Youtube', '眼睛', '壞掉', '有沒有', '方法', '早點', '睡', '掛', 'Sent', 'from', 'JPTT', 'on', 'my', 'HTC', 'D10i'], ['一段時間', '注意', 'LOL', '發現', '各大', 'LOL', '討論區', '人數', '明顯', '下降', '趨勢', '實在', '令人', '驚訝', '曾經', '一時', '遊戲', '霸主', '漸漸', '過氣', 'LOL', '確實', '撐', '久', '現在', '算', '厲害', '遊戲', '玩久', '會膩'], ['總覺', '每天', '睡', '睡覺時間', '睡', '不著', '長時間', '有沒有', '相關', '八卦', '世界', '大學排名', 'No.12', 'U', 'niversity', 'of', 'C', 'alifornia', 'L', 'os', 'ngeles', '國立', '台灣', '大學'], ['現在', 'messenger', '好像', '一個', '新', '功能', '類似', '日期', '文字', '出現', '底線', '再', '點選', '建立', '計畫', '以下', '小魯', '朋友', '對話', '原來', '國慶'], ['題', '一堆', '山路', '天黑', '後', '路燈', '暗冥', '矇', '有人', '一套', '很長', '鋼絲', '綁', '山壁', '護欄', '天亮', '後'], ['資料', '上市公司', '味全', '公司', '公司', '提供', '民國', '年', '月', '單位', '新台幣', '仟', '元', '項目', '營業', '收入', '淨額', '本月', '去年同期', '增減', '金額', '增減', '百分比', '年', '累計', '去年', '累計', '增減', '金額', '增減', '百分比', 'YTD', '負的', '單月', '翻', '正', '滅頂', '鄉民', '臉', '有沒有', '腫腫', '加油', '月份', '成長', '表示', '秒', '買', '秒', '退', '抵制', '無效', '業績', '更好', '不夠', '腫', '加油', '拒買', '好', '大多數', '人', '行為', '背道而馳', '精確', '地說', '拒買', '人', '越來越少', '囉', '好好', '堅持下去', '呦', '覺得', '越來越', '好', '喔', '加油', '嘴', '砲', '鍵盤', '滅頂', 'EINARD', '賽賽', '郎', '他養', '閒', '義務', '每個', '月', '更新', '閒', '更新', '消息', '味全'], ['題', '這篇文', '月', '號', '唯一', '一篇', '金城武', '文', '今天', '這篇', '金城武', '文就會', '中斷', '連續', '一個多月', '每天', 'PO', '文', '紀錄', '金城武', '知道', '八卦', '版有', '紀錄', 'I', 'see', 'you'], ['今年', '指考', '台大', '機械', '幹掉', '清大電資', '學士', '清大資', '工資', '電組', '台大', '機械', '收', '人', '比較', '看板', '資電', '潮', '機械', '悲傷', '好', '有無', '八卦'], ['本來', '水管', '搭', '沒一搭', '有人', '放', '現在', '操掉', '惹', '第三季', '還沒', '看到', '一半', '想', '請問', '有無', '鍛刀', '大賽', '八卦', '看到', '一季', '感覺', '全美', '刀匠', '已經', '上過', '一直', '洗', '舊', '面孔', '知道', '幹嘛'], ['南部', '高中', '分數', '好像', '越來越低', '相反', '北部', '高中', '似乎', '分數', '越來越', '高', '請問', '南一中', '北北基', '程度', '高中', '有板', '中強'], ['看到', '頂尖', '國立大學', '圖書館', '裡面', '學生', '一望無際', '使', '使用', '蘋果', '筆電', '居多', '蘋果', '筆電', '價格', '六萬多', '後', '段', '私校', '學店', '使用', '東芝', '筆電會', '取笑', '有沒有', '頂尖', '國立大學', '使用', '蘋果', '筆電', '八卦'], ['機師', '聽說', '月薪', '一二十萬', '說', '開', '飛機', '很酷', '但版', '只', '推當', '醫師', '工程師', '小弟', '太', '邊緣', '身旁', '走', '這條', '路', '朋友', '想', '聽', '相關', '經驗', '分享', '一下', 'Sent', 'from', 'JPTT', 'on', 'my', 'HTC', 'A9u'], ['最近', '出國', '問到', '人', '從沒', '保', '說', '刷卡', '送', '搭機', '出事', '航空公司', '保', '保', '幹麻', '故有', '一問', '旅行', '會保', '旅平險', '國內', '保', '國外', '不保', '國內', '不保', '國外', '保', '刷卡', '不用', '保', '國內外', '保', '宅', '在家', '保', '是否', '專板', '本板', '萬能', '問板', '兩則', '問卦', '自刪', '被刪', '算', '兩篇', '之內', '看板', '嚴格', '禁止', '政治', '問卦', '發文', '問卦', '前', '請', '先', '仔細閱讀', '相關', '板規', '行文', '未滿', '字', '視同', '鬧板', '請', '注意'], ['嘻嘻', '肥肥', 'ㄤ', 'ㄤ', '我亞綸', 'ㄌ', '小時候', '聽說', '手指', '月亮', '耳朵', '割下來', '那用', '雞雞', '指著', '月亮', '發生', '事', '嘻嘻', '再', '對準', '月亮', '手槍', 'JIZZ', '超大', '一炮', '月亮', 'ㄅ', '敬', '發生', '事', '有木有', '肥肥', '知道'], ['眾多', '肥宅', '單身', '好', '選擇', '爭鮮', '不開', '小時', '餵養', '眾多', '單身', '肥宅', '半夜', '整家店', '散發出', '宅味', '有沒有', '八卦'], ['之前', '傳出', '說', '有人', '使用', '大學', '宿網', '下載', 'BT', '抓', '想', '請問', '現在', '教育部', '學術', '網路', '抓', 'BT', '現在', '人', '使用', '宿舍', '網路', '抓', 'BT', '有沒有', '使用', '大學', '宿舍', '網路', 'BT', '下載', '抓', '八卦'], ['乳蹄', '水之七島', '美好', '年代', '六式', '超越', '人體', '極限', '超人', '技能', '鐵塊', '武裝', '色', '壓制', '紙繪', '用學', '見聞', '色', '直接', '躲', '現在', '職場', '過勞', '普遍', '肝臟', '修練', '鐵塊', '用紙', '繪', '躲', '工作', '月步', '直接', '窗戶', '下班', '主管', '看到', '剃', '用來', '捷運', '關門', '前', '衝進去', '覺得', '挺', '實用', '技能', '學會', '六式', '起薪', '肥肥', '宅', '好', 'ˋ', 'ˊ', 'ˋ', 'ˊ', 'ˋ', 'ˊ', 'ˋ', 'ˊ', 'ˋ', 'ˊ', 'ˋ', 'ˊ', '堅持', '手打', '簽名檔', '設定', '印章', '檔']]\n"
     ]
    }
   ],
   "source": [
    "print(sentences[0:20])"
   ]
  },
  {
   "cell_type": "code",
   "execution_count": 14,
   "metadata": {
    "scrolled": true
   },
   "outputs": [],
   "source": [
    "## save data as pickle format\n",
    "with open(\"data/article_cutted\", \"wb\") as file : \n",
    "    pickle.dump(sentences, file)"
   ]
  },
  {
   "cell_type": "markdown",
   "metadata": {},
   "source": [
    "- ## posseg (詞性)\n",
    "\n",
    " #### 在斷詞時 , 請用 jieba 把詞性抓出來 (1 筆即可)"
   ]
  },
  {
   "cell_type": "code",
   "execution_count": 15,
   "metadata": {},
   "outputs": [],
   "source": [
    "import jieba.posseg as pseg"
   ]
  },
  {
   "cell_type": "code",
   "execution_count": 16,
   "metadata": {
    "scrolled": true
   },
   "outputs": [
    {
     "name": "stdout",
     "output_type": "stream",
     "text": [
      "韓瑜   nr\n",
      "是   v\n",
      "協志   n\n",
      "的   uj\n",
      "前妻   n\n",
      "    x\n",
      "也   d\n",
      "是   v\n",
      "很正   a\n",
      "的   uj\n",
      "女演員   x\n",
      "    x\n",
      "周子瑜   nr\n",
      "是   v\n",
      "TWICE   eng\n",
      "團裡   q\n",
      "裡面   f\n",
      "的   uj\n",
      "台灣   ns\n",
      "人   n\n",
      "    x\n",
      "也   d\n",
      "是   v\n",
      "很正   d\n",
      "    x\n",
      "這   zg\n",
      "兩個   x\n",
      "要   v\n",
      "當   p\n",
      "鄉民   x\n",
      "的   uj\n",
      "老婆   n\n",
      "，   x\n",
      "你   r\n",
      "要   v\n",
      "怎麼   x\n",
      "選   v\n",
      "呢   y\n",
      "?   x\n",
      "?   x\n",
      "    x\n",
      "五   m\n",
      "樓   n\n",
      "你   r\n",
      "真   d\n",
      "有   v\n",
      "勇氣   x\n"
     ]
    }
   ],
   "source": [
    "for w, f in pseg.cut(data[0]):\n",
    "    print(w, ' ', f)"
   ]
  }
 ],
 "metadata": {
  "kernelspec": {
   "display_name": "Python 3.6.10 ('TF2_PY3.6')",
   "language": "python",
   "name": "python3"
  },
  "language_info": {
   "codemirror_mode": {
    "name": "ipython",
    "version": 3
   },
   "file_extension": ".py",
   "mimetype": "text/x-python",
   "name": "python",
   "nbconvert_exporter": "python",
   "pygments_lexer": "ipython3",
   "version": "3.6.10"
  },
  "vscode": {
   "interpreter": {
    "hash": "4ec5c3d8a734251ddd374f0a2b3c161b398c9b063cc6e87081989601f1aaa967"
   }
  }
 },
 "nbformat": 4,
 "nbformat_minor": 4
}

{
 "cells": [
  {
   "cell_type": "markdown",
   "metadata": {},
   "source": [
    "# build model prediction and compare each features set"
   ]
  },
  {
   "cell_type": "code",
   "execution_count": 1,
   "metadata": {
    "scrolled": false
   },
   "outputs": [
    {
     "name": "stdout",
     "output_type": "stream",
     "text": [
      "xgb version:  0.90\n"
     ]
    },
    {
     "data": {
      "text/plain": [
       "'C:\\\\Users\\\\user\\\\Desktop\\\\Resume\\\\V2.5\\\\v2-5-nlp\\\\Part2'"
      ]
     },
     "execution_count": 1,
     "metadata": {},
     "output_type": "execute_result"
    }
   ],
   "source": [
    "import pandas as pd\n",
    "import xgboost as xgb\n",
    "print(\"xgb version: \" , xgb.__version__)\n",
    "import pickle\n",
    "import numpy as np\n",
    "import os\n",
    "\n",
    "from gensim.models import Doc2Vec, doc2vec\n",
    "\n",
    "## turn back to main directory\n",
    "os.chdir(\"../\")\n",
    "os.getcwd()\n",
    "# os.chdir(\"Part2/\")\n",
    "# os.getcwd()"
   ]
  },
  {
   "cell_type": "markdown",
   "metadata": {},
   "source": [
    "### Try\n",
    " - import SVM\n",
    " - import linear regression\n",
    " - import logistic regression"
   ]
  },
  {
   "cell_type": "code",
   "execution_count": 4,
   "metadata": {},
   "outputs": [],
   "source": []
  },
  {
   "cell_type": "code",
   "execution_count": 3,
   "metadata": {},
   "outputs": [],
   "source": [
    "## read preprocess article df\n",
    "df = pd.read_csv('data/article_preprocessed.csv')"
   ]
  },
  {
   "cell_type": "code",
   "execution_count": 5,
   "metadata": {},
   "outputs": [],
   "source": [
    "## drop data\n",
    "diff_threshold = 20\n",
    "df = df[abs(df['push']-df['boo']) > diff_threshold].copy()"
   ]
  },
  {
   "cell_type": "code",
   "execution_count": 6,
   "metadata": {},
   "outputs": [],
   "source": [
    "## define y\n",
    "df['type'] = np.clip(df['push']-df['boo'], 0, 1)\n",
    "df = df.reset_index(drop=True)"
   ]
  },
  {
   "cell_type": "code",
   "execution_count": 7,
   "metadata": {},
   "outputs": [
    {
     "data": {
      "text/plain": [
       "1    17318\n",
       "0     1134\n",
       "Name: type, dtype: int64"
      ]
     },
     "execution_count": 7,
     "metadata": {},
     "output_type": "execute_result"
    }
   ],
   "source": [
    "df['type'].value_counts()"
   ]
  },
  {
   "cell_type": "markdown",
   "metadata": {},
   "source": [
    "-  258維 : 1維是Index 1維是y(output) 256維feature "
   ]
  },
  {
   "cell_type": "markdown",
   "metadata": {},
   "source": [
    " - dtype = np.int32 : 將讀取進來的資料數值轉為 int (原先為float)"
   ]
  },
  {
   "cell_type": "code",
   "execution_count": 8,
   "metadata": {},
   "outputs": [],
   "source": [
    "## create a numpy format data\n",
    "basic_data = np.zeros((df.shape[0], 258), dtype = np.int32)"
   ]
  },
  {
   "cell_type": "code",
   "execution_count": 9,
   "metadata": {},
   "outputs": [],
   "source": [
    "basic_data[:, 0] = df['idx']\n",
    "basic_data[:, 1] = df['type']"
   ]
  },
  {
   "cell_type": "code",
   "execution_count": 10,
   "metadata": {},
   "outputs": [
    {
     "data": {
      "text/plain": [
       "array([    32,     39,     67, ..., 252173, 252195, 252199])"
      ]
     },
     "execution_count": 10,
     "metadata": {},
     "output_type": "execute_result"
    }
   ],
   "source": [
    "basic_data[:,0]"
   ]
  },
  {
   "cell_type": "markdown",
   "metadata": {},
   "source": [
    "## bag of words"
   ]
  },
  {
   "cell_type": "code",
   "execution_count": 22,
   "metadata": {},
   "outputs": [
    {
     "name": "stderr",
     "output_type": "stream",
     "text": [
      "C:\\Users\\user\\Anaconda3\\lib\\site-packages\\sklearn\\base.py:306: UserWarning: Trying to unpickle estimator CountVectorizer from version 0.20.4 when using version 0.21.3. This might lead to breaking code or invalid results. Use at your own risk.\n",
      "  UserWarning)\n"
     ]
    }
   ],
   "source": [
    "os.chdir(\"data/\")\n",
    "os.getcwd()\n",
    "\n",
    "## load bag of words result\n",
    "with open('article_count', 'rb') as file:\n",
    "    _, count = pickle.load(file)"
   ]
  },
  {
   "cell_type": "code",
   "execution_count": 23,
   "metadata": {},
   "outputs": [],
   "source": [
    "## select top 256 words (counts of document) \n",
    "most_count_id = np.array((count > 0).sum(axis=0))[0].argsort()[::-1][:256]"
   ]
  },
  {
   "cell_type": "code",
   "execution_count": 24,
   "metadata": {},
   "outputs": [],
   "source": [
    "## subset data\n",
    "count = count[:, most_count_id]"
   ]
  },
  {
   "cell_type": "code",
   "execution_count": 25,
   "metadata": {},
   "outputs": [],
   "source": [
    "count_data = basic_data.copy()"
   ]
  },
  {
   "cell_type": "code",
   "execution_count": 26,
   "metadata": {},
   "outputs": [
    {
     "data": {
      "text/plain": [
       "array([    32,     39,     67, ..., 252173, 252195, 252199])"
      ]
     },
     "execution_count": 26,
     "metadata": {},
     "output_type": "execute_result"
    }
   ],
   "source": [
    "count_data[:, 0]\n",
    "#count[count_data[:, 0]].toarray()"
   ]
  },
  {
   "cell_type": "code",
   "execution_count": 27,
   "metadata": {
    "scrolled": true
   },
   "outputs": [
    {
     "data": {
      "text/plain": [
       "array([[1, 1, 0, ..., 0, 0, 0],\n",
       "       [1, 1, 0, ..., 0, 0, 0],\n",
       "       [0, 0, 1, ..., 0, 0, 0],\n",
       "       ...,\n",
       "       [1, 0, 8, ..., 0, 0, 0],\n",
       "       [0, 0, 0, ..., 0, 0, 0],\n",
       "       [0, 0, 0, ..., 1, 0, 0]])"
      ]
     },
     "execution_count": 27,
     "metadata": {},
     "output_type": "execute_result"
    }
   ],
   "source": [
    "## subset bag of words matrix\n",
    "count_data[:, 2:] = count[count_data[:, 0]].toarray()\n",
    "count_data[:, 2:]"
   ]
  },
  {
   "cell_type": "markdown",
   "metadata": {},
   "source": [
    "## TF-IDF"
   ]
  },
  {
   "cell_type": "code",
   "execution_count": 28,
   "metadata": {},
   "outputs": [
    {
     "name": "stderr",
     "output_type": "stream",
     "text": [
      "C:\\Users\\user\\Anaconda3\\lib\\site-packages\\sklearn\\base.py:306: UserWarning: Trying to unpickle estimator TfidfTransformer from version 0.20.4 when using version 0.21.3. This might lead to breaking code or invalid results. Use at your own risk.\n",
      "  UserWarning)\n",
      "C:\\Users\\user\\Anaconda3\\lib\\site-packages\\sklearn\\base.py:306: UserWarning: Trying to unpickle estimator TfidfVectorizer from version 0.20.4 when using version 0.21.3. This might lead to breaking code or invalid results. Use at your own risk.\n",
      "  UserWarning)\n"
     ]
    }
   ],
   "source": [
    "## load tf-idf result\n",
    "with open('article_tfidf', 'rb') as file:\n",
    "    _, tfidf = pickle.load(file)"
   ]
  },
  {
   "cell_type": "code",
   "execution_count": 29,
   "metadata": {},
   "outputs": [],
   "source": [
    "## select top 256 words (counts of document) \n",
    "most_tfidf_id = np.array((tfidf > 0).sum(axis=0))[0].argsort()[::-1][:256]"
   ]
  },
  {
   "cell_type": "code",
   "execution_count": 30,
   "metadata": {},
   "outputs": [],
   "source": [
    "## subset data\n",
    "tfidf = tfidf[:, most_tfidf_id]"
   ]
  },
  {
   "cell_type": "code",
   "execution_count": 31,
   "metadata": {},
   "outputs": [],
   "source": [
    "tfidf_data = basic_data.copy()"
   ]
  },
  {
   "cell_type": "code",
   "execution_count": 32,
   "metadata": {},
   "outputs": [],
   "source": [
    "## subset tf-idf matrix\n",
    "tfidf_data[:, 2:] = tfidf[tfidf_data[:, 0]].toarray()"
   ]
  },
  {
   "cell_type": "markdown",
   "metadata": {},
   "source": [
    "## average word2vec"
   ]
  },
  {
   "cell_type": "code",
   "execution_count": 33,
   "metadata": {},
   "outputs": [
    {
     "data": {
      "text/plain": [
       "'C:\\\\Users\\\\user\\\\Desktop\\\\Resume\\\\V2.5\\\\v2-5-nlp\\\\Part2'"
      ]
     },
     "execution_count": 33,
     "metadata": {},
     "output_type": "execute_result"
    }
   ],
   "source": [
    "os.chdir(\"../\")\n",
    "os.getcwd()"
   ]
  },
  {
   "cell_type": "code",
   "execution_count": 34,
   "metadata": {
    "scrolled": true
   },
   "outputs": [],
   "source": [
    "## load average word2vec result\n",
    "with open('avg_article_vector', 'rb') as file:\n",
    "    avg_vector = pickle.load(file)"
   ]
  },
  {
   "cell_type": "code",
   "execution_count": 35,
   "metadata": {},
   "outputs": [],
   "source": [
    "avg_data = basic_data.copy()"
   ]
  },
  {
   "cell_type": "code",
   "execution_count": 36,
   "metadata": {},
   "outputs": [],
   "source": [
    "## select rows of average word2vec\n",
    "for i, row in df.iterrows():\n",
    "    avg_data[i, 2:] = avg_vector[row['idx']]"
   ]
  },
  {
   "cell_type": "markdown",
   "metadata": {},
   "source": [
    "## doc2vec"
   ]
  },
  {
   "cell_type": "code",
   "execution_count": 37,
   "metadata": {},
   "outputs": [],
   "source": [
    "## load doc2vec model\n",
    "model = Doc2Vec.load('word2vec_model.doc2vec')"
   ]
  },
  {
   "cell_type": "code",
   "execution_count": 38,
   "metadata": {},
   "outputs": [],
   "source": [
    "doc2vec_data = basic_data.copy()"
   ]
  },
  {
   "cell_type": "code",
   "execution_count": 39,
   "metadata": {
    "scrolled": true
   },
   "outputs": [],
   "source": [
    "## select idx of doc2vec\n",
    "for i, row in df.iterrows():\n",
    "    doc2vec_data[i, 2:] = model.docvecs[str(row['idx'])]"
   ]
  },
  {
   "cell_type": "markdown",
   "metadata": {},
   "source": [
    "# prediction model"
   ]
  },
  {
   "cell_type": "code",
   "execution_count": 40,
   "metadata": {},
   "outputs": [],
   "source": [
    "from sklearn.model_selection import train_test_split"
   ]
  },
  {
   "cell_type": "code",
   "execution_count": 41,
   "metadata": {},
   "outputs": [],
   "source": [
    "## split data to training and testing data\n",
    "train, test = train_test_split(df, test_size=0.2, stratify=df['type'])\n",
    "train_idx = np.array(train.index)\n",
    "test_idx = np.array(test.index)"
   ]
  },
  {
   "cell_type": "code",
   "execution_count": 42,
   "metadata": {},
   "outputs": [],
   "source": [
    "## define a dictionary to collect model result\n",
    "result = {}"
   ]
  },
  {
   "cell_type": "markdown",
   "metadata": {},
   "source": [
    "## train model use xgboost"
   ]
  },
  {
   "cell_type": "code",
   "execution_count": 43,
   "metadata": {
    "scrolled": true
   },
   "outputs": [
    {
     "name": "stdout",
     "output_type": "stream",
     "text": [
      "[0]\tvalidation_0-auc:0.552041\n",
      "[1]\tvalidation_0-auc:0.56359\n",
      "[2]\tvalidation_0-auc:0.581314\n",
      "[3]\tvalidation_0-auc:0.581409\n",
      "[4]\tvalidation_0-auc:0.581436\n",
      "[5]\tvalidation_0-auc:0.581578\n",
      "[6]\tvalidation_0-auc:0.594223\n",
      "[7]\tvalidation_0-auc:0.600159\n",
      "[8]\tvalidation_0-auc:0.611402\n",
      "[9]\tvalidation_0-auc:0.610979\n",
      "[10]\tvalidation_0-auc:0.610523\n",
      "[11]\tvalidation_0-auc:0.611018\n",
      "[12]\tvalidation_0-auc:0.610667\n",
      "[13]\tvalidation_0-auc:0.610822\n",
      "[14]\tvalidation_0-auc:0.614745\n",
      "[15]\tvalidation_0-auc:0.614886\n",
      "[16]\tvalidation_0-auc:0.614998\n",
      "[17]\tvalidation_0-auc:0.638489\n",
      "[18]\tvalidation_0-auc:0.638674\n",
      "[19]\tvalidation_0-auc:0.63864\n",
      "[20]\tvalidation_0-auc:0.64123\n",
      "[21]\tvalidation_0-auc:0.644878\n",
      "[22]\tvalidation_0-auc:0.66001\n",
      "[23]\tvalidation_0-auc:0.666523\n",
      "[24]\tvalidation_0-auc:0.671359\n",
      "[25]\tvalidation_0-auc:0.670984\n",
      "[26]\tvalidation_0-auc:0.674533\n",
      "[27]\tvalidation_0-auc:0.68313\n",
      "[28]\tvalidation_0-auc:0.675305\n",
      "[29]\tvalidation_0-auc:0.679412\n",
      "[30]\tvalidation_0-auc:0.683463\n",
      "[31]\tvalidation_0-auc:0.688887\n",
      "[32]\tvalidation_0-auc:0.703097\n",
      "[33]\tvalidation_0-auc:0.704167\n",
      "[34]\tvalidation_0-auc:0.70514\n",
      "[35]\tvalidation_0-auc:0.707556\n",
      "[36]\tvalidation_0-auc:0.703586\n",
      "[37]\tvalidation_0-auc:0.70505\n",
      "[38]\tvalidation_0-auc:0.706224\n",
      "[39]\tvalidation_0-auc:0.706338\n",
      "[40]\tvalidation_0-auc:0.708929\n",
      "[41]\tvalidation_0-auc:0.710901\n",
      "[42]\tvalidation_0-auc:0.714859\n",
      "[43]\tvalidation_0-auc:0.713116\n",
      "[44]\tvalidation_0-auc:0.713359\n",
      "[45]\tvalidation_0-auc:0.711352\n",
      "[46]\tvalidation_0-auc:0.712848\n",
      "[47]\tvalidation_0-auc:0.710574\n",
      "[48]\tvalidation_0-auc:0.7106\n",
      "[49]\tvalidation_0-auc:0.711341\n",
      "[50]\tvalidation_0-auc:0.721054\n",
      "[51]\tvalidation_0-auc:0.721995\n",
      "[52]\tvalidation_0-auc:0.719262\n",
      "[53]\tvalidation_0-auc:0.720501\n",
      "[54]\tvalidation_0-auc:0.71973\n",
      "[55]\tvalidation_0-auc:0.718862\n",
      "[56]\tvalidation_0-auc:0.717615\n",
      "[57]\tvalidation_0-auc:0.719361\n",
      "[58]\tvalidation_0-auc:0.720366\n",
      "[59]\tvalidation_0-auc:0.722996\n",
      "[60]\tvalidation_0-auc:0.726173\n",
      "[61]\tvalidation_0-auc:0.727757\n",
      "[62]\tvalidation_0-auc:0.727986\n",
      "[63]\tvalidation_0-auc:0.72697\n",
      "[64]\tvalidation_0-auc:0.730375\n",
      "[65]\tvalidation_0-auc:0.728705\n",
      "[66]\tvalidation_0-auc:0.728742\n",
      "[67]\tvalidation_0-auc:0.728464\n",
      "[68]\tvalidation_0-auc:0.729191\n",
      "[69]\tvalidation_0-auc:0.731932\n",
      "[70]\tvalidation_0-auc:0.733632\n",
      "[71]\tvalidation_0-auc:0.733752\n",
      "[72]\tvalidation_0-auc:0.735398\n",
      "[73]\tvalidation_0-auc:0.735595\n",
      "[74]\tvalidation_0-auc:0.73511\n",
      "[75]\tvalidation_0-auc:0.735979\n",
      "[76]\tvalidation_0-auc:0.736033\n",
      "[77]\tvalidation_0-auc:0.736874\n",
      "[78]\tvalidation_0-auc:0.736919\n",
      "[79]\tvalidation_0-auc:0.737526\n",
      "[80]\tvalidation_0-auc:0.73715\n",
      "[81]\tvalidation_0-auc:0.737234\n",
      "[82]\tvalidation_0-auc:0.736892\n",
      "[83]\tvalidation_0-auc:0.737793\n",
      "[84]\tvalidation_0-auc:0.737449\n",
      "[85]\tvalidation_0-auc:0.739035\n",
      "[86]\tvalidation_0-auc:0.737024\n",
      "[87]\tvalidation_0-auc:0.736486\n",
      "[88]\tvalidation_0-auc:0.73553\n",
      "[89]\tvalidation_0-auc:0.734357\n",
      "[90]\tvalidation_0-auc:0.734938\n",
      "[91]\tvalidation_0-auc:0.736195\n",
      "[92]\tvalidation_0-auc:0.735839\n",
      "[93]\tvalidation_0-auc:0.736298\n",
      "[94]\tvalidation_0-auc:0.737669\n",
      "[95]\tvalidation_0-auc:0.737512\n",
      "[96]\tvalidation_0-auc:0.737297\n",
      "[97]\tvalidation_0-auc:0.737115\n",
      "[98]\tvalidation_0-auc:0.737933\n",
      "[99]\tvalidation_0-auc:0.739483\n"
     ]
    }
   ],
   "source": [
    "## bag of words\n",
    "model = xgb.XGBClassifier()\n",
    "model.fit(count_data[train_idx, 2:], count_data[train_idx, 1], \n",
    "          eval_set=[(count_data[test_idx, 2:], count_data[test_idx, 1])], eval_metric='auc'\n",
    "         )\n",
    "\n",
    "## testing auc\n",
    "result['bag_of_words'] = model.evals_result()['validation_0']['auc'][-1]"
   ]
  },
  {
   "cell_type": "code",
   "execution_count": 44,
   "metadata": {
    "scrolled": true
   },
   "outputs": [
    {
     "name": "stdout",
     "output_type": "stream",
     "text": [
      "[0]\tvalidation_0-auc:0.552041\n",
      "[1]\tvalidation_0-auc:0.56359\n",
      "[2]\tvalidation_0-auc:0.581314\n",
      "[3]\tvalidation_0-auc:0.581409\n",
      "[4]\tvalidation_0-auc:0.581436\n",
      "[5]\tvalidation_0-auc:0.581578\n",
      "[6]\tvalidation_0-auc:0.594223\n",
      "[7]\tvalidation_0-auc:0.600159\n",
      "[8]\tvalidation_0-auc:0.611402\n",
      "[9]\tvalidation_0-auc:0.610979\n",
      "[10]\tvalidation_0-auc:0.610523\n",
      "[11]\tvalidation_0-auc:0.611018\n",
      "[12]\tvalidation_0-auc:0.610667\n",
      "[13]\tvalidation_0-auc:0.610822\n",
      "[14]\tvalidation_0-auc:0.614745\n",
      "[15]\tvalidation_0-auc:0.614886\n",
      "[16]\tvalidation_0-auc:0.614998\n",
      "[17]\tvalidation_0-auc:0.638489\n",
      "[18]\tvalidation_0-auc:0.638674\n",
      "[19]\tvalidation_0-auc:0.63864\n",
      "[20]\tvalidation_0-auc:0.64123\n",
      "[21]\tvalidation_0-auc:0.644878\n",
      "[22]\tvalidation_0-auc:0.66001\n",
      "[23]\tvalidation_0-auc:0.666523\n",
      "[24]\tvalidation_0-auc:0.671359\n",
      "[25]\tvalidation_0-auc:0.670984\n",
      "[26]\tvalidation_0-auc:0.674533\n",
      "[27]\tvalidation_0-auc:0.68313\n",
      "[28]\tvalidation_0-auc:0.675305\n",
      "[29]\tvalidation_0-auc:0.679412\n",
      "[30]\tvalidation_0-auc:0.683463\n",
      "[31]\tvalidation_0-auc:0.688887\n",
      "[32]\tvalidation_0-auc:0.703097\n",
      "[33]\tvalidation_0-auc:0.704167\n",
      "[34]\tvalidation_0-auc:0.70514\n",
      "[35]\tvalidation_0-auc:0.707556\n",
      "[36]\tvalidation_0-auc:0.703586\n",
      "[37]\tvalidation_0-auc:0.70505\n",
      "[38]\tvalidation_0-auc:0.706224\n",
      "[39]\tvalidation_0-auc:0.706338\n",
      "[40]\tvalidation_0-auc:0.708929\n",
      "[41]\tvalidation_0-auc:0.710901\n",
      "[42]\tvalidation_0-auc:0.714859\n",
      "[43]\tvalidation_0-auc:0.713116\n",
      "[44]\tvalidation_0-auc:0.713359\n",
      "[45]\tvalidation_0-auc:0.711352\n",
      "[46]\tvalidation_0-auc:0.712848\n",
      "[47]\tvalidation_0-auc:0.710574\n",
      "[48]\tvalidation_0-auc:0.7106\n",
      "[49]\tvalidation_0-auc:0.711341\n",
      "[50]\tvalidation_0-auc:0.721054\n",
      "[51]\tvalidation_0-auc:0.721995\n",
      "[52]\tvalidation_0-auc:0.719262\n",
      "[53]\tvalidation_0-auc:0.720501\n",
      "[54]\tvalidation_0-auc:0.71973\n",
      "[55]\tvalidation_0-auc:0.718862\n",
      "[56]\tvalidation_0-auc:0.717615\n",
      "[57]\tvalidation_0-auc:0.719361\n",
      "[58]\tvalidation_0-auc:0.720366\n",
      "[59]\tvalidation_0-auc:0.722996\n",
      "[60]\tvalidation_0-auc:0.726173\n",
      "[61]\tvalidation_0-auc:0.727757\n",
      "[62]\tvalidation_0-auc:0.727986\n",
      "[63]\tvalidation_0-auc:0.72697\n",
      "[64]\tvalidation_0-auc:0.730375\n",
      "[65]\tvalidation_0-auc:0.728705\n",
      "[66]\tvalidation_0-auc:0.728742\n",
      "[67]\tvalidation_0-auc:0.728464\n",
      "[68]\tvalidation_0-auc:0.729191\n",
      "[69]\tvalidation_0-auc:0.731932\n",
      "[70]\tvalidation_0-auc:0.733632\n",
      "[71]\tvalidation_0-auc:0.733752\n",
      "[72]\tvalidation_0-auc:0.735398\n",
      "[73]\tvalidation_0-auc:0.735595\n",
      "[74]\tvalidation_0-auc:0.73511\n",
      "[75]\tvalidation_0-auc:0.735979\n",
      "[76]\tvalidation_0-auc:0.736033\n",
      "[77]\tvalidation_0-auc:0.736874\n",
      "[78]\tvalidation_0-auc:0.736919\n",
      "[79]\tvalidation_0-auc:0.737526\n",
      "[80]\tvalidation_0-auc:0.73715\n",
      "[81]\tvalidation_0-auc:0.737234\n",
      "[82]\tvalidation_0-auc:0.736892\n",
      "[83]\tvalidation_0-auc:0.737793\n",
      "[84]\tvalidation_0-auc:0.737449\n",
      "[85]\tvalidation_0-auc:0.739035\n",
      "[86]\tvalidation_0-auc:0.737024\n",
      "[87]\tvalidation_0-auc:0.736486\n",
      "[88]\tvalidation_0-auc:0.73553\n",
      "[89]\tvalidation_0-auc:0.734357\n",
      "[90]\tvalidation_0-auc:0.734938\n",
      "[91]\tvalidation_0-auc:0.736195\n",
      "[92]\tvalidation_0-auc:0.735839\n",
      "[93]\tvalidation_0-auc:0.736298\n",
      "[94]\tvalidation_0-auc:0.737669\n",
      "[95]\tvalidation_0-auc:0.737512\n",
      "[96]\tvalidation_0-auc:0.737297\n",
      "[97]\tvalidation_0-auc:0.737115\n",
      "[98]\tvalidation_0-auc:0.737933\n",
      "[99]\tvalidation_0-auc:0.739483\n"
     ]
    }
   ],
   "source": [
    "## tf-idf\n",
    "model = xgb.XGBClassifier()\n",
    "model.fit(tfidf_data[train_idx, 2:], tfidf_data[train_idx, 1], \n",
    "          eval_set=[(tfidf_data[test_idx, 2:], tfidf_data[test_idx, 1])], eval_metric='auc'\n",
    "         )\n",
    "\n",
    "## testing auc\n",
    "result['tf-idf'] = model.evals_result()['validation_0']['auc'][-1]"
   ]
  },
  {
   "cell_type": "code",
   "execution_count": 99,
   "metadata": {
    "scrolled": true
   },
   "outputs": [
    {
     "name": "stdout",
     "output_type": "stream",
     "text": [
      "[0]\tvalidation_0-auc:0.505041\n",
      "[1]\tvalidation_0-auc:0.505041\n",
      "[2]\tvalidation_0-auc:0.511261\n",
      "[3]\tvalidation_0-auc:0.511261\n",
      "[4]\tvalidation_0-auc:0.514511\n",
      "[5]\tvalidation_0-auc:0.514511\n",
      "[6]\tvalidation_0-auc:0.514511\n",
      "[7]\tvalidation_0-auc:0.514493\n",
      "[8]\tvalidation_0-auc:0.514511\n",
      "[9]\tvalidation_0-auc:0.514511\n",
      "[10]\tvalidation_0-auc:0.514511\n",
      "[11]\tvalidation_0-auc:0.516551\n",
      "[12]\tvalidation_0-auc:0.516551\n",
      "[13]\tvalidation_0-auc:0.516551\n",
      "[14]\tvalidation_0-auc:0.516541\n",
      "[15]\tvalidation_0-auc:0.516551\n",
      "[16]\tvalidation_0-auc:0.514895\n",
      "[17]\tvalidation_0-auc:0.514895\n",
      "[18]\tvalidation_0-auc:0.514895\n",
      "[19]\tvalidation_0-auc:0.514895\n",
      "[20]\tvalidation_0-auc:0.514895\n",
      "[21]\tvalidation_0-auc:0.514895\n",
      "[22]\tvalidation_0-auc:0.514895\n",
      "[23]\tvalidation_0-auc:0.51488\n",
      "[24]\tvalidation_0-auc:0.517917\n",
      "[25]\tvalidation_0-auc:0.517932\n",
      "[26]\tvalidation_0-auc:0.517932\n",
      "[27]\tvalidation_0-auc:0.517935\n",
      "[28]\tvalidation_0-auc:0.517935\n",
      "[29]\tvalidation_0-auc:0.517937\n",
      "[30]\tvalidation_0-auc:0.517937\n",
      "[31]\tvalidation_0-auc:0.517922\n",
      "[32]\tvalidation_0-auc:0.521647\n",
      "[33]\tvalidation_0-auc:0.521112\n",
      "[34]\tvalidation_0-auc:0.521112\n",
      "[35]\tvalidation_0-auc:0.521112\n",
      "[36]\tvalidation_0-auc:0.522769\n",
      "[37]\tvalidation_0-auc:0.523321\n",
      "[38]\tvalidation_0-auc:0.523321\n",
      "[39]\tvalidation_0-auc:0.523045\n",
      "[40]\tvalidation_0-auc:0.523049\n",
      "[41]\tvalidation_0-auc:0.521307\n",
      "[42]\tvalidation_0-auc:0.522856\n",
      "[43]\tvalidation_0-auc:0.523986\n",
      "[44]\tvalidation_0-auc:0.524831\n",
      "[45]\tvalidation_0-auc:0.524831\n",
      "[46]\tvalidation_0-auc:0.524837\n",
      "[47]\tvalidation_0-auc:0.525114\n",
      "[48]\tvalidation_0-auc:0.52605\n",
      "[49]\tvalidation_0-auc:0.530328\n",
      "[50]\tvalidation_0-auc:0.530309\n",
      "[51]\tvalidation_0-auc:0.530588\n",
      "[52]\tvalidation_0-auc:0.530599\n",
      "[53]\tvalidation_0-auc:0.530634\n",
      "[54]\tvalidation_0-auc:0.531975\n",
      "[55]\tvalidation_0-auc:0.532378\n",
      "[56]\tvalidation_0-auc:0.532401\n",
      "[57]\tvalidation_0-auc:0.533071\n",
      "[58]\tvalidation_0-auc:0.532265\n",
      "[59]\tvalidation_0-auc:0.534684\n",
      "[60]\tvalidation_0-auc:0.535495\n",
      "[61]\tvalidation_0-auc:0.535493\n",
      "[62]\tvalidation_0-auc:0.5355\n",
      "[63]\tvalidation_0-auc:0.535592\n",
      "[64]\tvalidation_0-auc:0.535597\n",
      "[65]\tvalidation_0-auc:0.535602\n",
      "[66]\tvalidation_0-auc:0.535874\n",
      "[67]\tvalidation_0-auc:0.535868\n",
      "[68]\tvalidation_0-auc:0.537587\n",
      "[69]\tvalidation_0-auc:0.537591\n",
      "[70]\tvalidation_0-auc:0.537881\n",
      "[71]\tvalidation_0-auc:0.537879\n",
      "[72]\tvalidation_0-auc:0.538279\n",
      "[73]\tvalidation_0-auc:0.538278\n",
      "[74]\tvalidation_0-auc:0.538086\n",
      "[75]\tvalidation_0-auc:0.538092\n",
      "[76]\tvalidation_0-auc:0.538032\n",
      "[77]\tvalidation_0-auc:0.538049\n",
      "[78]\tvalidation_0-auc:0.538048\n",
      "[79]\tvalidation_0-auc:0.538049\n",
      "[80]\tvalidation_0-auc:0.538074\n",
      "[81]\tvalidation_0-auc:0.538067\n",
      "[82]\tvalidation_0-auc:0.538068\n",
      "[83]\tvalidation_0-auc:0.538069\n",
      "[84]\tvalidation_0-auc:0.538072\n",
      "[85]\tvalidation_0-auc:0.538071\n",
      "[86]\tvalidation_0-auc:0.537798\n",
      "[87]\tvalidation_0-auc:0.537791\n",
      "[88]\tvalidation_0-auc:0.539393\n",
      "[89]\tvalidation_0-auc:0.539397\n",
      "[90]\tvalidation_0-auc:0.539397\n",
      "[91]\tvalidation_0-auc:0.539679\n",
      "[92]\tvalidation_0-auc:0.539735\n",
      "[93]\tvalidation_0-auc:0.539735\n",
      "[94]\tvalidation_0-auc:0.539993\n",
      "[95]\tvalidation_0-auc:0.539992\n",
      "[96]\tvalidation_0-auc:0.539993\n",
      "[97]\tvalidation_0-auc:0.540013\n",
      "[98]\tvalidation_0-auc:0.540013\n",
      "[99]\tvalidation_0-auc:0.540011\n"
     ]
    }
   ],
   "source": [
    "## average word2vec\n",
    "model = xgb.XGBClassifier()\n",
    "model.fit(avg_data[train_idx, 2:], avg_data[train_idx, 1], \n",
    "          eval_set=[(avg_data[test_idx, 2:], avg_data[test_idx, 1])], eval_metric='auc'\n",
    "         )\n",
    "\n",
    "## testing auc\n",
    "result['avg_word2vec'] = model.evals_result()['validation_0']['auc'][-1]"
   ]
  },
  {
   "cell_type": "code",
   "execution_count": 100,
   "metadata": {
    "scrolled": true
   },
   "outputs": [
    {
     "name": "stdout",
     "output_type": "stream",
     "text": [
      "[0]\tvalidation_0-auc:0.499278\n",
      "[1]\tvalidation_0-auc:0.499134\n",
      "[2]\tvalidation_0-auc:0.499134\n",
      "[3]\tvalidation_0-auc:0.499134\n",
      "[4]\tvalidation_0-auc:0.499134\n",
      "[5]\tvalidation_0-auc:0.499134\n",
      "[6]\tvalidation_0-auc:0.499134\n",
      "[7]\tvalidation_0-auc:0.499134\n",
      "[8]\tvalidation_0-auc:0.498845\n",
      "[9]\tvalidation_0-auc:0.498845\n",
      "[10]\tvalidation_0-auc:0.498845\n",
      "[11]\tvalidation_0-auc:0.498845\n",
      "[12]\tvalidation_0-auc:0.498845\n",
      "[13]\tvalidation_0-auc:0.498845\n",
      "[14]\tvalidation_0-auc:0.498845\n",
      "[15]\tvalidation_0-auc:0.498845\n",
      "[16]\tvalidation_0-auc:0.498845\n",
      "[17]\tvalidation_0-auc:0.498845\n",
      "[18]\tvalidation_0-auc:0.498845\n",
      "[19]\tvalidation_0-auc:0.498268\n",
      "[20]\tvalidation_0-auc:0.498268\n",
      "[21]\tvalidation_0-auc:0.498268\n",
      "[22]\tvalidation_0-auc:0.498268\n",
      "[23]\tvalidation_0-auc:0.498268\n",
      "[24]\tvalidation_0-auc:0.498268\n",
      "[25]\tvalidation_0-auc:0.498557\n",
      "[26]\tvalidation_0-auc:0.498701\n",
      "[27]\tvalidation_0-auc:0.498845\n",
      "[28]\tvalidation_0-auc:0.498845\n",
      "[29]\tvalidation_0-auc:0.498845\n",
      "[30]\tvalidation_0-auc:0.498845\n",
      "[31]\tvalidation_0-auc:0.49899\n",
      "[32]\tvalidation_0-auc:0.49899\n",
      "[33]\tvalidation_0-auc:0.49899\n",
      "[34]\tvalidation_0-auc:0.49899\n",
      "[35]\tvalidation_0-auc:0.49899\n",
      "[36]\tvalidation_0-auc:0.499134\n",
      "[37]\tvalidation_0-auc:0.499134\n",
      "[38]\tvalidation_0-auc:0.498557\n",
      "[39]\tvalidation_0-auc:0.498701\n",
      "[40]\tvalidation_0-auc:0.498701\n",
      "[41]\tvalidation_0-auc:0.498701\n",
      "[42]\tvalidation_0-auc:0.498701\n",
      "[43]\tvalidation_0-auc:0.498701\n",
      "[44]\tvalidation_0-auc:0.498701\n",
      "[45]\tvalidation_0-auc:0.498412\n",
      "[46]\tvalidation_0-auc:0.498412\n",
      "[47]\tvalidation_0-auc:0.498412\n",
      "[48]\tvalidation_0-auc:0.498412\n",
      "[49]\tvalidation_0-auc:0.498412\n",
      "[50]\tvalidation_0-auc:0.498412\n",
      "[51]\tvalidation_0-auc:0.498412\n",
      "[52]\tvalidation_0-auc:0.498412\n",
      "[53]\tvalidation_0-auc:0.498412\n",
      "[54]\tvalidation_0-auc:0.498412\n",
      "[55]\tvalidation_0-auc:0.498412\n",
      "[56]\tvalidation_0-auc:0.498412\n",
      "[57]\tvalidation_0-auc:0.498412\n",
      "[58]\tvalidation_0-auc:0.498412\n",
      "[59]\tvalidation_0-auc:0.498412\n",
      "[60]\tvalidation_0-auc:0.498412\n",
      "[61]\tvalidation_0-auc:0.498412\n",
      "[62]\tvalidation_0-auc:0.498412\n",
      "[63]\tvalidation_0-auc:0.498412\n",
      "[64]\tvalidation_0-auc:0.498412\n",
      "[65]\tvalidation_0-auc:0.498412\n",
      "[66]\tvalidation_0-auc:0.498412\n",
      "[67]\tvalidation_0-auc:0.498412\n",
      "[68]\tvalidation_0-auc:0.498412\n",
      "[69]\tvalidation_0-auc:0.498412\n",
      "[70]\tvalidation_0-auc:0.498412\n",
      "[71]\tvalidation_0-auc:0.498412\n",
      "[72]\tvalidation_0-auc:0.498701\n",
      "[73]\tvalidation_0-auc:0.498701\n",
      "[74]\tvalidation_0-auc:0.498701\n",
      "[75]\tvalidation_0-auc:0.498701\n",
      "[76]\tvalidation_0-auc:0.498701\n",
      "[77]\tvalidation_0-auc:0.498701\n",
      "[78]\tvalidation_0-auc:0.498701\n",
      "[79]\tvalidation_0-auc:0.498701\n",
      "[80]\tvalidation_0-auc:0.498701\n",
      "[81]\tvalidation_0-auc:0.498701\n",
      "[82]\tvalidation_0-auc:0.498701\n",
      "[83]\tvalidation_0-auc:0.498701\n",
      "[84]\tvalidation_0-auc:0.498701\n",
      "[85]\tvalidation_0-auc:0.498701\n",
      "[86]\tvalidation_0-auc:0.498701\n",
      "[87]\tvalidation_0-auc:0.498701\n",
      "[88]\tvalidation_0-auc:0.498701\n",
      "[89]\tvalidation_0-auc:0.498701\n",
      "[90]\tvalidation_0-auc:0.498701\n",
      "[91]\tvalidation_0-auc:0.498701\n",
      "[92]\tvalidation_0-auc:0.498701\n",
      "[93]\tvalidation_0-auc:0.498701\n",
      "[94]\tvalidation_0-auc:0.498701\n",
      "[95]\tvalidation_0-auc:0.498701\n",
      "[96]\tvalidation_0-auc:0.498701\n",
      "[97]\tvalidation_0-auc:0.498701\n",
      "[98]\tvalidation_0-auc:0.498701\n",
      "[99]\tvalidation_0-auc:0.498701\n"
     ]
    }
   ],
   "source": [
    "## doc2vec\n",
    "model = xgb.XGBClassifier()\n",
    "model.fit(doc2vec_data[train_idx, 2:], doc2vec_data[train_idx, 1],\n",
    "          eval_set=[(doc2vec_data[test_idx, 2:], doc2vec_data[test_idx, 1])], eval_metric='auc'\n",
    "         )\n",
    "\n",
    "## testing auc\n",
    "result['doc2vec'] = model.evals_result()['validation_0']['auc'][-1]"
   ]
  },
  {
   "cell_type": "markdown",
   "metadata": {},
   "source": [
    "## plot result"
   ]
  },
  {
   "cell_type": "code",
   "execution_count": 101,
   "metadata": {},
   "outputs": [],
   "source": [
    "import matplotlib.pyplot as plt"
   ]
  },
  {
   "cell_type": "code",
   "execution_count": 102,
   "metadata": {},
   "outputs": [
    {
     "data": {
      "image/png": "[encoded data removed]",
      "text/plain": [
       "<Figure size 432x288 with 1 Axes>"
      ]
     },
     "metadata": {
      "needs_background": "light"
     },
     "output_type": "display_data"
    }
   ],
   "source": [
    "plt.bar(np.arange(4), result.values())\n",
    "plt.xticks(np.arange(4), result.keys())\n",
    "plt.show()"
   ]
  },
  {
   "cell_type": "code",
   "execution_count": null,
   "metadata": {},
   "outputs": [],
   "source": []
  }
 ],
 "metadata": {
  "kernelspec": {
   "display_name": "Python 3",
   "language": "python",
   "name": "python3"
  },
  "language_info": {
   "codemirror_mode": {
    "name": "ipython",
    "version": 3
   },
   "file_extension": ".py",
   "mimetype": "text/x-python",
   "name": "python",
   "nbconvert_exporter": "python",
   "pygments_lexer": "ipython3",
   "version": "3.7.4"
  }
 },
 "nbformat": 4,
 "nbformat_minor": 2
}
